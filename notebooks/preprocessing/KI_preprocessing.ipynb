{
 "cells": [
  {
   "cell_type": "code",
   "execution_count": 19,
   "metadata": {},
   "outputs": [
    {
     "name": "stdout",
     "output_type": "stream",
     "text": [
      "The autoreload extension is already loaded. To reload it, use:\n",
      "  %reload_ext autoreload\n"
     ]
    }
   ],
   "source": [
    "%load_ext autoreload\n",
    "%autoreload 2"
   ]
  },
  {
   "cell_type": "code",
   "execution_count": 20,
   "metadata": {},
   "outputs": [],
   "source": [
    "import sys\n",
    "sys.path.append(\"../\")"
   ]
  },
  {
   "cell_type": "code",
   "execution_count": 21,
   "metadata": {},
   "outputs": [],
   "source": [
    "from pathlib import Path"
   ]
  },
  {
   "cell_type": "code",
   "execution_count": 22,
   "metadata": {},
   "outputs": [],
   "source": [
    "data_root = Path(\"../../data/MultiStain/\")"
   ]
  },
  {
   "cell_type": "markdown",
   "metadata": {},
   "source": [
    "# Clean Data Into Unified Version"
   ]
  },
  {
   "cell_type": "markdown",
   "metadata": {},
   "source": [
    "## For Kidney International Sampless"
   ]
  },
  {
   "cell_type": "markdown",
   "metadata": {},
   "source": [
    "### Glomerulus dataset\n",
    "Changelog:\n",
    "1. Change .tif to .png"
   ]
  },
  {
   "cell_type": "code",
   "execution_count": 5,
   "metadata": {},
   "outputs": [
    {
     "data": {
      "text/plain": [
       "[PosixPath('../../data/KI_dataset/raw_data/Glomerulus/HE_001.tif'),\n",
       " PosixPath('../../data/KI_dataset/raw_data/Glomerulus/HE_002.tif')]"
      ]
     },
     "execution_count": 5,
     "metadata": {},
     "output_type": "execute_result"
    }
   ],
   "source": [
    "tiff_img_paths = list((data_root / \"Glomerulus\").glob(\"*.tif\"))\n",
    "tiff_img_paths"
   ]
  },
  {
   "cell_type": "code",
   "execution_count": 6,
   "metadata": {},
   "outputs": [],
   "source": [
    "from ml_core.preprocessing.slide_utils import read_full_slide_by_level"
   ]
  },
  {
   "cell_type": "code",
   "execution_count": 7,
   "metadata": {},
   "outputs": [],
   "source": [
    "def tif2png(tiff_path):\n",
    "    slide = read_full_slide_by_level(str(tiff_path), 0)\n",
    "    png_path = tiff_path.parent / tiff_path.name.replace(\".tif\", \".png\")\n",
    "    slide.save(png_path)\n",
    "    print(f\"{tiff_path} -> {png_path}\")"
   ]
  },
  {
   "cell_type": "code",
   "execution_count": 8,
   "metadata": {},
   "outputs": [
    {
     "name": "stdout",
     "output_type": "stream",
     "text": [
      "../../data/KI_dataset/raw_data/Glomerulus/HE_001.tif -> ../../data/KI_dataset/raw_data/Glomerulus/HE_001.png\n",
      "../../data/KI_dataset/raw_data/Glomerulus/HE_002.tif -> ../../data/KI_dataset/raw_data/Glomerulus/HE_002.png\n"
     ]
    },
    {
     "data": {
      "text/plain": [
       "[None, None]"
      ]
     },
     "execution_count": 8,
     "metadata": {},
     "output_type": "execute_result"
    }
   ],
   "source": [
    "list(map(tif2png, tiff_img_paths))"
   ]
  },
  {
   "cell_type": "markdown",
   "metadata": {},
   "source": [
    "### Tubules dataset\n",
    "Changelog\n",
    "1. Modify name for HE_005_class_DT to HE_005_mask_proximal\n",
    "2. Merge distal and proximal tubules"
   ]
  },
  {
   "cell_type": "code",
   "execution_count": 5,
   "metadata": {},
   "outputs": [
    {
     "data": {
      "text/plain": [
       "[PosixPath('../../data/KI_dataset/raw_data/Tubules/PAS_003_mask_distal.png'),\n",
       " PosixPath('../../data/KI_dataset/raw_data/Tubules/HE_004_mask_distal.png'),\n",
       " PosixPath('../../data/KI_dataset/raw_data/Tubules/PAS_003_mask_proximal.png'),\n",
       " PosixPath('../../data/KI_dataset/raw_data/Tubules/PAS_001_mask_proximal.png'),\n",
       " PosixPath('../../data/KI_dataset/raw_data/Tubules/HE_005_mask_proximal.png'),\n",
       " PosixPath('../../data/KI_dataset/raw_data/Tubules/HE_001_mask_proximal.png'),\n",
       " PosixPath('../../data/KI_dataset/raw_data/Tubules/PAS_002_mask_distal.png'),\n",
       " PosixPath('../../data/KI_dataset/raw_data/Tubules/HE_002_mask_distal.png'),\n",
       " PosixPath('../../data/KI_dataset/raw_data/Tubules/HE_004_mask_proximal.png'),\n",
       " PosixPath('../../data/KI_dataset/raw_data/Tubules/HE_001_mask_distal.png'),\n",
       " PosixPath('../../data/KI_dataset/raw_data/Tubules/PAS_004_mask_proximal.png'),\n",
       " PosixPath('../../data/KI_dataset/raw_data/Tubules/PAS_001_mask_distal.png'),\n",
       " PosixPath('../../data/KI_dataset/raw_data/Tubules/PAS_002_mask_proximal.png'),\n",
       " PosixPath('../../data/KI_dataset/raw_data/Tubules/HE_003_mask_proximal.png'),\n",
       " PosixPath('../../data/KI_dataset/raw_data/Tubules/HE_003_mask_distal.png'),\n",
       " PosixPath('../../data/KI_dataset/raw_data/Tubules/HE_002_mask_proximal.png'),\n",
       " PosixPath('../../data/KI_dataset/raw_data/Tubules/HE_005_mask_distal.png')]"
      ]
     },
     "execution_count": 5,
     "metadata": {},
     "output_type": "execute_result"
    }
   ],
   "source": [
    "masks_paths = list((data_root / \"Tubules\").glob(\"*_mask_*.png\"))\n",
    "masks_paths"
   ]
  },
  {
   "cell_type": "code",
   "execution_count": 6,
   "metadata": {},
   "outputs": [],
   "source": [
    "import re\n",
    "from PIL import Image\n",
    "import numpy as np"
   ]
  },
  {
   "cell_type": "code",
   "execution_count": 17,
   "metadata": {},
   "outputs": [],
   "source": [
    "def create_paired_masks(masks_paths):\n",
    "    prefix_dict = {}\n",
    "    pat = re.compile(\"([A-Z]+_\\d{3})_mask_\\w*.png\")\n",
    "\n",
    "    for p in masks_paths:\n",
    "        mask_name = p.name\n",
    "        res = re.match(pat, mask_name)\n",
    "        prefix = res.group(1)\n",
    "        if prefix not in prefix_dict:\n",
    "            prefix_dict[prefix] = [p]\n",
    "        else:\n",
    "            prefix_dict[prefix].append(p)\n",
    "            \n",
    "    for prefix in prefix_dict:\n",
    "        paths = prefix_dict[prefix]\n",
    "        if len(paths) == 1:\n",
    "            print(f\"[Warning]: {prefix} doesn't have two masks.\")\n",
    "            paths.append(paths[0])\n",
    "        maskA, maskB = list(map(lambda p: np.array(Image.open(p).resize((3000, 3000), Image.NEAREST)), paths))\n",
    "        assert maskA.shape == maskB.shape, print(prefix, maskA.shape, maskB.shape)\n",
    "        union_mask = np.bitwise_or(maskA != 0, maskB != 0)\n",
    "        union_mask = Image.fromarray(np.array(union_mask * 255, dtype=np.uint8))\n",
    "        print(np.unique(union_mask))\n",
    "        new_mask_path = prefix_dict[prefix][0].parent / f\"{prefix}_mask.png\"\n",
    "        union_mask.save(new_mask_path)\n",
    "        print(f\"{' & '.join([p.name for p in prefix_dict[prefix]])} -> {new_mask_path}\")"
   ]
  },
  {
   "cell_type": "code",
   "execution_count": 18,
   "metadata": {},
   "outputs": [
    {
     "name": "stdout",
     "output_type": "stream",
     "text": [
      "[  0 255]\n",
      "PAS_003_mask_distal.png & PAS_003_mask_proximal.png -> ../../data/KI_dataset/raw_data/Tubules/PAS_003_mask.png\n",
      "[  0 255]\n",
      "HE_004_mask_distal.png & HE_004_mask_proximal.png -> ../../data/KI_dataset/raw_data/Tubules/HE_004_mask.png\n",
      "[  0 255]\n",
      "PAS_001_mask_proximal.png & PAS_001_mask_distal.png -> ../../data/KI_dataset/raw_data/Tubules/PAS_001_mask.png\n",
      "[  0 255]\n",
      "HE_005_mask_proximal.png & HE_005_mask_distal.png -> ../../data/KI_dataset/raw_data/Tubules/HE_005_mask.png\n",
      "[  0 255]\n",
      "HE_001_mask_proximal.png & HE_001_mask_distal.png -> ../../data/KI_dataset/raw_data/Tubules/HE_001_mask.png\n",
      "[  0 255]\n",
      "PAS_002_mask_distal.png & PAS_002_mask_proximal.png -> ../../data/KI_dataset/raw_data/Tubules/PAS_002_mask.png\n",
      "[  0 255]\n",
      "HE_002_mask_distal.png & HE_002_mask_proximal.png -> ../../data/KI_dataset/raw_data/Tubules/HE_002_mask.png\n",
      "[Warning]: PAS_004 doesn't have two masks.\n",
      "[  0 255]\n",
      "PAS_004_mask_proximal.png & PAS_004_mask_proximal.png -> ../../data/KI_dataset/raw_data/Tubules/PAS_004_mask.png\n",
      "[  0 255]\n",
      "HE_003_mask_proximal.png & HE_003_mask_distal.png -> ../../data/KI_dataset/raw_data/Tubules/HE_003_mask.png\n"
     ]
    }
   ],
   "source": [
    "create_paired_masks(masks_paths)"
   ]
  },
  {
   "cell_type": "markdown",
   "metadata": {},
   "source": [
    "## Add center ROI from slides"
   ]
  },
  {
   "cell_type": "code",
   "execution_count": 7,
   "metadata": {},
   "outputs": [],
   "source": [
    "roi_data_root = data_root / \"slide_001_center_ROI\""
   ]
  },
  {
   "cell_type": "code",
   "execution_count": 31,
   "metadata": {},
   "outputs": [
    {
     "data": {
      "text/plain": [
       "[PosixPath('../../data/KI_dataset/raw_data/slide_001_center_ROI/Arteriole'),\n",
       " PosixPath('../../data/KI_dataset/raw_data/slide_001_center_ROI/Glomerulus'),\n",
       " PosixPath('../../data/KI_dataset/raw_data/slide_001_center_ROI/Tubules'),\n",
       " PosixPath('../../data/KI_dataset/raw_data/slide_001_center_ROI/Artery')]"
      ]
     },
     "execution_count": 31,
     "metadata": {},
     "output_type": "execute_result"
    }
   ],
   "source": [
    "list(roi_data_root.glob(\"*\"))"
   ]
  },
  {
   "cell_type": "code",
   "execution_count": 21,
   "metadata": {},
   "outputs": [],
   "source": [
    "from PIL import Image\n",
    "import re\n",
    "import numpy as np"
   ]
  },
  {
   "cell_type": "code",
   "execution_count": 15,
   "metadata": {},
   "outputs": [],
   "source": [
    "def extract_image_id(name, regex=r\"HE_(\\d+)_.*\\.png\"):\n",
    "    match = re.match(regex, name)\n",
    "    if match:\n",
    "        return int(match[1])\n",
    "    else:\n",
    "        return -1"
   ]
  },
  {
   "cell_type": "code",
   "execution_count": 38,
   "metadata": {
    "scrolled": true
   },
   "outputs": [],
   "source": [
    "def move_roi(class_name):\n",
    "    png_paths = list((roi_data_root / class_name).glob(\"*.png\"))\n",
    "    image_paths = [p for p in png_paths if \"mask\" not in str(p)]\n",
    "    mask_paths = [p for p in png_paths if \"mask\" in str(p)]\n",
    "\n",
    "    # simply copy an image to upper directory and rename it\n",
    "    for image_path in image_paths:\n",
    "        img = Image.open(image_path)\n",
    "        img_id = extract_image_id(image_path.name) + 100\n",
    "        new_name = f\"HE_{img_id:03d}.png\"\n",
    "        new_path = image_path.parent.parent.parent / class_name / new_name\n",
    "        img.save(new_path)\n",
    "        print(f\"{image_path}\\n->\\t{new_path}.\")\n",
    "\n",
    "    for mask_path in mask_paths:\n",
    "        mask = Image.open(mask_path)\n",
    "        img_id = extract_image_id(mask_path.name)\n",
    "        assert img_id != -1\n",
    "        img_id += 100\n",
    "        new_name = f\"HE_{img_id:03d}_mask.png\"\n",
    "        new_path = image_path.parent.parent.parent / class_name / new_name\n",
    "        mask_arr = np.array(mask)\n",
    "        mask_arr[mask_arr == 1] = 255\n",
    "        new_mask = Image.fromarray(mask_arr)\n",
    "        new_mask.save(new_path)\n",
    "        print(f\"{mask_path}\\n->\\t{new_path}.\")"
   ]
  },
  {
   "cell_type": "code",
   "execution_count": 39,
   "metadata": {
    "scrolled": true
   },
   "outputs": [
    {
     "name": "stdout",
     "output_type": "stream",
     "text": [
      "../../data/KI_dataset/raw_data/slide_001_center_ROI/Artery/HE_001_(7777, 43955).png\n",
      "->\t../../data/KI_dataset/raw_data/Artery/HE_101.png.\n",
      "../../data/KI_dataset/raw_data/slide_001_center_ROI/Artery/HE_005_(23853, 54351).png\n",
      "->\t../../data/KI_dataset/raw_data/Artery/HE_105.png.\n",
      "../../data/KI_dataset/raw_data/slide_001_center_ROI/Artery/HE_004_(22119, 52929).png\n",
      "->\t../../data/KI_dataset/raw_data/Artery/HE_104.png.\n",
      "../../data/KI_dataset/raw_data/slide_001_center_ROI/Artery/HE_003_(12478, 45059).png\n",
      "->\t../../data/KI_dataset/raw_data/Artery/HE_103.png.\n",
      "../../data/KI_dataset/raw_data/slide_001_center_ROI/Artery/HE_000_(6379, 49902).png\n",
      "->\t../../data/KI_dataset/raw_data/Artery/HE_100.png.\n",
      "../../data/KI_dataset/raw_data/slide_001_center_ROI/Artery/HE_002_(12212, 43254).png\n",
      "->\t../../data/KI_dataset/raw_data/Artery/HE_102.png.\n",
      "../../data/KI_dataset/raw_data/slide_001_center_ROI/Artery/HE_003_mask_(12478, 45059).png\n",
      "->\t../../data/KI_dataset/raw_data/Artery/HE_103_mask.png.\n",
      "../../data/KI_dataset/raw_data/slide_001_center_ROI/Artery/HE_004_mask_(22119, 52929).png\n",
      "->\t../../data/KI_dataset/raw_data/Artery/HE_104_mask.png.\n",
      "../../data/KI_dataset/raw_data/slide_001_center_ROI/Artery/HE_002_mask_(12212, 43254).png\n",
      "->\t../../data/KI_dataset/raw_data/Artery/HE_102_mask.png.\n",
      "../../data/KI_dataset/raw_data/slide_001_center_ROI/Artery/HE_005_mask_(23853, 54351).png\n",
      "->\t../../data/KI_dataset/raw_data/Artery/HE_105_mask.png.\n",
      "../../data/KI_dataset/raw_data/slide_001_center_ROI/Artery/HE_001_mask_(7777, 43955).png\n",
      "->\t../../data/KI_dataset/raw_data/Artery/HE_101_mask.png.\n",
      "../../data/KI_dataset/raw_data/slide_001_center_ROI/Artery/HE_000_mask_(6379, 49902).png\n",
      "->\t../../data/KI_dataset/raw_data/Artery/HE_100_mask.png.\n",
      "../../data/KI_dataset/raw_data/slide_001_center_ROI/Tubules/HE_003_(12825, 16934).png\n",
      "->\t../../data/KI_dataset/raw_data/Tubules/HE_103.png.\n",
      "../../data/KI_dataset/raw_data/slide_001_center_ROI/Tubules/HE_000_(11431, 17340).png\n",
      "->\t../../data/KI_dataset/raw_data/Tubules/HE_100.png.\n",
      "../../data/KI_dataset/raw_data/slide_001_center_ROI/Tubules/HE_001_(10060, 16796).png\n",
      "->\t../../data/KI_dataset/raw_data/Tubules/HE_101.png.\n",
      "../../data/KI_dataset/raw_data/slide_001_center_ROI/Tubules/HE_002_(11509, 15987).png\n",
      "->\t../../data/KI_dataset/raw_data/Tubules/HE_102.png.\n",
      "../../data/KI_dataset/raw_data/slide_001_center_ROI/Tubules/HE_005_(10152, 15075).png\n",
      "->\t../../data/KI_dataset/raw_data/Tubules/HE_105.png.\n",
      "../../data/KI_dataset/raw_data/slide_001_center_ROI/Tubules/HE_004_(11420, 14995).png\n",
      "->\t../../data/KI_dataset/raw_data/Tubules/HE_104.png.\n",
      "../../data/KI_dataset/raw_data/slide_001_center_ROI/Tubules/HE_001_mask_(10060, 16796).png\n",
      "->\t../../data/KI_dataset/raw_data/Tubules/HE_101_mask.png.\n",
      "../../data/KI_dataset/raw_data/slide_001_center_ROI/Tubules/HE_005_mask_(10152, 15075).png\n",
      "->\t../../data/KI_dataset/raw_data/Tubules/HE_105_mask.png.\n",
      "../../data/KI_dataset/raw_data/slide_001_center_ROI/Tubules/HE_000_mask_(11431, 17340).png\n",
      "->\t../../data/KI_dataset/raw_data/Tubules/HE_100_mask.png.\n",
      "../../data/KI_dataset/raw_data/slide_001_center_ROI/Tubules/HE_004_mask_(11420, 14995).png\n",
      "->\t../../data/KI_dataset/raw_data/Tubules/HE_104_mask.png.\n",
      "../../data/KI_dataset/raw_data/slide_001_center_ROI/Tubules/HE_002_mask_(11509, 15987).png\n",
      "->\t../../data/KI_dataset/raw_data/Tubules/HE_102_mask.png.\n",
      "../../data/KI_dataset/raw_data/slide_001_center_ROI/Tubules/HE_003_mask_(12825, 16934).png\n",
      "->\t../../data/KI_dataset/raw_data/Tubules/HE_103_mask.png.\n",
      "../../data/KI_dataset/raw_data/slide_001_center_ROI/Glomerulus/HE_013_(23246, 51684).png\n",
      "->\t../../data/KI_dataset/raw_data/Glomerulus/HE_113.png.\n",
      "../../data/KI_dataset/raw_data/slide_001_center_ROI/Glomerulus/HE_016_(23447, 58688).png\n",
      "->\t../../data/KI_dataset/raw_data/Glomerulus/HE_116.png.\n",
      "../../data/KI_dataset/raw_data/slide_001_center_ROI/Glomerulus/HE_005_(12704, 54164).png\n",
      "->\t../../data/KI_dataset/raw_data/Glomerulus/HE_105.png.\n",
      "../../data/KI_dataset/raw_data/slide_001_center_ROI/Glomerulus/HE_007_(6412, 48337).png\n",
      "->\t../../data/KI_dataset/raw_data/Glomerulus/HE_107.png.\n",
      "../../data/KI_dataset/raw_data/slide_001_center_ROI/Glomerulus/HE_014_(22948, 54971).png\n",
      "->\t../../data/KI_dataset/raw_data/Glomerulus/HE_114.png.\n",
      "../../data/KI_dataset/raw_data/slide_001_center_ROI/Glomerulus/HE_011_(18257, 44498).png\n",
      "->\t../../data/KI_dataset/raw_data/Glomerulus/HE_111.png.\n",
      "../../data/KI_dataset/raw_data/slide_001_center_ROI/Glomerulus/HE_000_(23375, 64949).png\n",
      "->\t../../data/KI_dataset/raw_data/Glomerulus/HE_100.png.\n",
      "../../data/KI_dataset/raw_data/slide_001_center_ROI/Glomerulus/HE_010_(16339, 45330).png\n",
      "->\t../../data/KI_dataset/raw_data/Glomerulus/HE_110.png.\n",
      "../../data/KI_dataset/raw_data/slide_001_center_ROI/Glomerulus/HE_001_(22157, 62303).png\n",
      "->\t../../data/KI_dataset/raw_data/Glomerulus/HE_101.png.\n",
      "../../data/KI_dataset/raw_data/slide_001_center_ROI/Glomerulus/HE_004_(14660, 56102).png\n",
      "->\t../../data/KI_dataset/raw_data/Glomerulus/HE_104.png.\n",
      "../../data/KI_dataset/raw_data/slide_001_center_ROI/Glomerulus/HE_008_(6075, 44879).png\n",
      "->\t../../data/KI_dataset/raw_data/Glomerulus/HE_108.png.\n",
      "../../data/KI_dataset/raw_data/slide_001_center_ROI/Glomerulus/HE_002_(18789, 60642).png\n",
      "->\t../../data/KI_dataset/raw_data/Glomerulus/HE_102.png.\n",
      "../../data/KI_dataset/raw_data/slide_001_center_ROI/Glomerulus/HE_012_(20957, 49238).png\n",
      "->\t../../data/KI_dataset/raw_data/Glomerulus/HE_112.png.\n",
      "../../data/KI_dataset/raw_data/slide_001_center_ROI/Glomerulus/HE_006_(10571, 52828).png\n",
      "->\t../../data/KI_dataset/raw_data/Glomerulus/HE_106.png.\n",
      "../../data/KI_dataset/raw_data/slide_001_center_ROI/Glomerulus/HE_003_(17191, 58052).png\n",
      "->\t../../data/KI_dataset/raw_data/Glomerulus/HE_103.png.\n",
      "../../data/KI_dataset/raw_data/slide_001_center_ROI/Glomerulus/HE_015_(24377, 57140).png\n",
      "->\t../../data/KI_dataset/raw_data/Glomerulus/HE_115.png.\n",
      "../../data/KI_dataset/raw_data/slide_001_center_ROI/Glomerulus/HE_009_(8894, 44285).png\n",
      "->\t../../data/KI_dataset/raw_data/Glomerulus/HE_109.png.\n",
      "../../data/KI_dataset/raw_data/slide_001_center_ROI/Glomerulus/HE_016_mask_(23447, 58688).png\n",
      "->\t../../data/KI_dataset/raw_data/Glomerulus/HE_116_mask.png.\n",
      "../../data/KI_dataset/raw_data/slide_001_center_ROI/Glomerulus/HE_007_mask_(6412, 48337).png\n",
      "->\t../../data/KI_dataset/raw_data/Glomerulus/HE_107_mask.png.\n",
      "../../data/KI_dataset/raw_data/slide_001_center_ROI/Glomerulus/HE_013_mask_(23246, 51684).png\n",
      "->\t../../data/KI_dataset/raw_data/Glomerulus/HE_113_mask.png.\n",
      "../../data/KI_dataset/raw_data/slide_001_center_ROI/Glomerulus/HE_008_mask_(6075, 44879).png\n",
      "->\t../../data/KI_dataset/raw_data/Glomerulus/HE_108_mask.png.\n",
      "../../data/KI_dataset/raw_data/slide_001_center_ROI/Glomerulus/HE_002_mask_(18789, 60642).png\n",
      "->\t../../data/KI_dataset/raw_data/Glomerulus/HE_102_mask.png.\n",
      "../../data/KI_dataset/raw_data/slide_001_center_ROI/Glomerulus/HE_012_mask_(20957, 49238).png\n",
      "->\t../../data/KI_dataset/raw_data/Glomerulus/HE_112_mask.png.\n",
      "../../data/KI_dataset/raw_data/slide_001_center_ROI/Glomerulus/HE_001_mask_(22157, 62303).png\n",
      "->\t../../data/KI_dataset/raw_data/Glomerulus/HE_101_mask.png.\n",
      "../../data/KI_dataset/raw_data/slide_001_center_ROI/Glomerulus/HE_014_mask_(22948, 54971).png\n",
      "->\t../../data/KI_dataset/raw_data/Glomerulus/HE_114_mask.png.\n",
      "../../data/KI_dataset/raw_data/slide_001_center_ROI/Glomerulus/HE_003_mask_(17191, 58052).png\n",
      "->\t../../data/KI_dataset/raw_data/Glomerulus/HE_103_mask.png.\n",
      "../../data/KI_dataset/raw_data/slide_001_center_ROI/Glomerulus/HE_000_mask_(23375, 64949).png\n",
      "->\t../../data/KI_dataset/raw_data/Glomerulus/HE_100_mask.png.\n",
      "../../data/KI_dataset/raw_data/slide_001_center_ROI/Glomerulus/HE_010_mask_(16339, 45330).png\n",
      "->\t../../data/KI_dataset/raw_data/Glomerulus/HE_110_mask.png.\n",
      "../../data/KI_dataset/raw_data/slide_001_center_ROI/Glomerulus/HE_015_mask_(24377, 57140).png\n",
      "->\t../../data/KI_dataset/raw_data/Glomerulus/HE_115_mask.png.\n",
      "../../data/KI_dataset/raw_data/slide_001_center_ROI/Glomerulus/HE_004_mask_(14660, 56102).png\n",
      "->\t../../data/KI_dataset/raw_data/Glomerulus/HE_104_mask.png.\n",
      "../../data/KI_dataset/raw_data/slide_001_center_ROI/Glomerulus/HE_009_mask_(8894, 44285).png\n",
      "->\t../../data/KI_dataset/raw_data/Glomerulus/HE_109_mask.png.\n",
      "../../data/KI_dataset/raw_data/slide_001_center_ROI/Glomerulus/HE_006_mask_(10571, 52828).png\n",
      "->\t../../data/KI_dataset/raw_data/Glomerulus/HE_106_mask.png.\n",
      "../../data/KI_dataset/raw_data/slide_001_center_ROI/Glomerulus/HE_005_mask_(12704, 54164).png\n",
      "->\t../../data/KI_dataset/raw_data/Glomerulus/HE_105_mask.png.\n",
      "../../data/KI_dataset/raw_data/slide_001_center_ROI/Glomerulus/HE_011_mask_(18257, 44498).png\n",
      "->\t../../data/KI_dataset/raw_data/Glomerulus/HE_111_mask.png.\n"
     ]
    }
   ],
   "source": [
    "for class_name in [\"Artery\", \"Tubules\", \"Glomerulus\"]:\n",
    "    move_roi(class_name)"
   ]
  },
  {
   "cell_type": "markdown",
   "metadata": {},
   "source": [
    "# Generate HDF5 dataset"
   ]
  },
  {
   "cell_type": "markdown",
   "metadata": {},
   "source": [
    "### Assemble images and masks using prefix"
   ]
  },
  {
   "cell_type": "code",
   "execution_count": 12,
   "metadata": {},
   "outputs": [],
   "source": [
    "from sklearn.model_selection import train_test_split\n",
    "from collections import defaultdict\n",
    "from ml_core.preprocessing.patches_extraction import crop_and_save_patches_to_hdf5, Extractor"
   ]
  },
  {
   "cell_type": "code",
   "execution_count": 15,
   "metadata": {},
   "outputs": [],
   "source": [
    "output_root = data_root / \"hdf5_data/\"\n",
    "output_root.mkdir(exist_ok=True)"
   ]
  },
  {
   "cell_type": "code",
   "execution_count": 16,
   "metadata": {},
   "outputs": [],
   "source": [
    "def split_paths(data_root, stain_filter=\"HE\", prefix_pattern=\"([A-Z]+_\\d{3})(_mask)?.png\", test_size=0.2):\n",
    "    \n",
    "    if stain_filter is None:\n",
    "        stain_filter = \"*\"\n",
    "    \n",
    "    all_paths = data_root.glob(f\"{stain_filter}_*.png\")\n",
    "    \n",
    "    pat = re.compile(prefix_pattern)\n",
    "    \n",
    "    prefix_dict = defaultdict(dict)\n",
    "    \n",
    "    for p in all_paths:\n",
    "        name = p.name\n",
    "        match = re.match(pat, name)\n",
    "        if match:\n",
    "            prefix = match.group(1)\n",
    "            if \"mask\" in name:\n",
    "                prefix_dict[prefix][\"mask\"] = p\n",
    "            else:\n",
    "                prefix_dict[prefix][\"img\"] = p\n",
    "    \n",
    "    for prefix in prefix_dict:\n",
    "        paths_dict = prefix_dict[prefix]\n",
    "        assert \"mask\" in paths_dict and \"img\" in paths_dict, f\"{prefix}: {paths_dict} is invalid.\"\n",
    "        \n",
    "    assert len(prefix_dict) > 0, f\"No enough data for {data_root}/{stain_filter}\"\n",
    "    \n",
    "    train_prefix, test_prefix = train_test_split(list(prefix_dict.keys()), test_size=test_size, random_state=42)\n",
    "    \n",
    "    train_paths = [[prefix_dict[p][\"img\"] for p in train_prefix],\n",
    "                   [prefix_dict[p][\"mask\"] for p in train_prefix]]\n",
    "    \n",
    "    test_paths = [[prefix_dict[p][\"img\"] for p in test_prefix],\n",
    "                   [prefix_dict[p][\"mask\"] for p in test_prefix]]\n",
    "    \n",
    "    print(f\"{data_root}/{stain_filter} stats\\tTrain: {len(train_prefix)}\\tTest: {len(test_prefix)}\")\n",
    "    return train_paths, test_paths"
   ]
  },
  {
   "cell_type": "code",
   "execution_count": 23,
   "metadata": {},
   "outputs": [
    {
     "name": "stdout",
     "output_type": "stream",
     "text": [
      "Finish saving patch_256/Tubules_train.h5.\n",
      "Finish saving patch_256/Tubules_val.h5.\n"
     ]
    }
   ],
   "source": [
    "for class_name in [\"Tubules\"]:\n",
    "    extractor = Extractor(config_section_name=f\"MultiStain_{class_name}\")\n",
    "    \n",
    "    for split in (\"train\", \"val\"):\n",
    "        fpaths = list((data_root / f\"ROI_data/{split}/{class_name}\").glob(\"*.png\"))\n",
    "        assert fpaths\n",
    "        roi_mask_mappings = {\"roi\": [], \"mask\": []}\n",
    "        \n",
    "        for fpath in fpaths:\n",
    "            if not str(fpath).endswith(\"_mask.png\"):\n",
    "                mask_path = Path(str(fpath).replace(\".png\", \"_mask.png\"))\n",
    "                if mask_path in fpaths:\n",
    "                    roi_mask_mappings[\"roi\"].append(fpath)\n",
    "                    roi_mask_mappings[\"mask\"].append(mask_path)\n",
    "                    \n",
    "        assert roi_mask_mappings\n",
    "        \n",
    "        hdf5_name = f\"patch_{extractor.patch_size}/{class_name}_{split}.h5\"\n",
    "        output_path = output_root / hdf5_name\n",
    "        if not output_path.parent.exists():\n",
    "            output_path.parent.mkdir(parents=True, exist_ok=True)\n",
    "        \n",
    "        crop_and_save_patches_to_hdf5(output_root / hdf5_name,\n",
    "                                      images=roi_mask_mappings[\"roi\"],\n",
    "                                      masks=roi_mask_mappings[\"mask\"],\n",
    "                                      extractor=extractor)\n",
    "        \n",
    "        print(f\"Finish saving {hdf5_name}.\")"
   ]
  },
  {
   "cell_type": "code",
   "execution_count": null,
   "metadata": {},
   "outputs": [],
   "source": []
  }
 ],
 "metadata": {
  "kernelspec": {
   "display_name": "pytorch",
   "language": "python",
   "name": "pytorch"
  },
  "language_info": {
   "codemirror_mode": {
    "name": "ipython",
    "version": 3
   },
   "file_extension": ".py",
   "mimetype": "text/x-python",
   "name": "python",
   "nbconvert_exporter": "python",
   "pygments_lexer": "ipython3",
   "version": "3.7.7"
  }
 },
 "nbformat": 4,
 "nbformat_minor": 4
}
