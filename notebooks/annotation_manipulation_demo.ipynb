{
 "cells": [
  {
   "cell_type": "markdown",
   "metadata": {},
   "source": [
    "This notebook will indicate:\n",
    "1. how to load annotations from HALO/ASAP format annotation files;\n",
    "2. how to serialize annotations to ASAP format annotation files;\n",
    "3. how to transform annotations to masks and vice versa."
   ]
  },
  {
   "cell_type": "code",
   "execution_count": 1,
   "metadata": {},
   "outputs": [],
   "source": [
    "%load_ext autoreload\n",
    "%autoreload 2"
   ]
  },
  {
   "cell_type": "code",
   "execution_count": 2,
   "metadata": {},
   "outputs": [],
   "source": [
    "import pandas as pd\n",
    "import numpy as np\n",
    "from pathlib import Path\n",
    "from PIL import Image\n",
    "from matplotlib import pyplot as plt"
   ]
  },
  {
   "cell_type": "code",
   "execution_count": 3,
   "metadata": {},
   "outputs": [],
   "source": [
    "import sys\n",
    "sys.path.append(\"../\")"
   ]
  },
  {
   "cell_type": "markdown",
   "metadata": {},
   "source": [
    "## 1. Dataset preparation"
   ]
  },
  {
   "cell_type": "code",
   "execution_count": 4,
   "metadata": {},
   "outputs": [
    {
     "name": "stdout",
     "output_type": "stream",
     "text": [
      "  % Total    % Received % Xferd  Average Speed   Time    Time     Time  Current\n",
      "                                 Dload  Upload   Total   Spent    Left  Speed\n",
      "100  434k  100  434k    0     0  1119k      0 --:--:-- --:--:-- --:--:--     0-:-- 1116k\n",
      "slide_001.asap.regen.xml  slide_001.asap.xml  slide_001.halo.xml\n"
     ]
    }
   ],
   "source": [
    "!mkdir -p /tmp/annotations\n",
    "!curl https://storage.googleapis.com/kidney_dataset/annotations/slide_001.halo.xml -o /tmp/annotations/slide_001.halo.xml\n",
    "!ls /tmp/annotations/"
   ]
  },
  {
   "cell_type": "code",
   "execution_count": 5,
   "metadata": {},
   "outputs": [],
   "source": [
    "working_dir = Path(\"/tmp/annotations/\")\n",
    "halo_annotation_file = working_dir / \"slide_001.halo.xml\""
   ]
  },
  {
   "cell_type": "markdown",
   "metadata": {},
   "source": [
    "## 2. HALO annotation to ASAP annotation"
   ]
  },
  {
   "cell_type": "code",
   "execution_count": 6,
   "metadata": {},
   "outputs": [],
   "source": [
    "from annotations import load_annotations_from_halo_xml, create_asap_annotation_file"
   ]
  },
  {
   "cell_type": "code",
   "execution_count": 7,
   "metadata": {},
   "outputs": [],
   "source": [
    "annotations = load_annotations_from_halo_xml(halo_annotation_file)"
   ]
  },
  {
   "cell_type": "code",
   "execution_count": 8,
   "metadata": {},
   "outputs": [],
   "source": [
    "asap_annotation_file = working_dir / \"slide_001.asap.xml\"\n",
    "create_asap_annotation_file(annotations, asap_annotation_file)"
   ]
  },
  {
   "cell_type": "code",
   "execution_count": 9,
   "metadata": {},
   "outputs": [
    {
     "name": "stdout",
     "output_type": "stream",
     "text": [
      "slide_001.asap.regen.xml  slide_001.asap.xml  slide_001.halo.xml\n"
     ]
    }
   ],
   "source": [
    "!ls /tmp/annotations"
   ]
  },
  {
   "cell_type": "markdown",
   "metadata": {},
   "source": [
    "The generated slide_001.asap.xml can now be used in ASAP to view the annotations."
   ]
  },
  {
   "cell_type": "markdown",
   "metadata": {},
   "source": [
    "## 3. Read directly from ASAP annotations"
   ]
  },
  {
   "cell_type": "markdown",
   "metadata": {},
   "source": [
    "This functionality is needed, as later on, when models generate annotations, it will only be provided in ASAP format. "
   ]
  },
  {
   "cell_type": "code",
   "execution_count": 10,
   "metadata": {},
   "outputs": [],
   "source": [
    "from annotations import load_annotations_from_asap_xml"
   ]
  },
  {
   "cell_type": "code",
   "execution_count": 11,
   "metadata": {},
   "outputs": [],
   "source": [
    "annotations = load_annotations_from_asap_xml(asap_annotation_file)"
   ]
  },
  {
   "cell_type": "code",
   "execution_count": 12,
   "metadata": {},
   "outputs": [
    {
     "data": {
      "text/html": [
       "<div>\n",
       "<style scoped>\n",
       "    .dataframe tbody tr th:only-of-type {\n",
       "        vertical-align: middle;\n",
       "    }\n",
       "\n",
       "    .dataframe tbody tr th {\n",
       "        vertical-align: top;\n",
       "    }\n",
       "\n",
       "    .dataframe thead th {\n",
       "        text-align: right;\n",
       "    }\n",
       "</style>\n",
       "<table border=\"1\" class=\"dataframe\">\n",
       "  <thead>\n",
       "    <tr style=\"text-align: right;\">\n",
       "      <th></th>\n",
       "      <th>label_name</th>\n",
       "      <th>color</th>\n",
       "      <th>z-axis</th>\n",
       "      <th>label</th>\n",
       "    </tr>\n",
       "  </thead>\n",
       "  <tbody>\n",
       "    <tr>\n",
       "      <th>1</th>\n",
       "      <td>Biopsy_core</td>\n",
       "      <td>#00ffff</td>\n",
       "      <td>0</td>\n",
       "      <td>1</td>\n",
       "    </tr>\n",
       "    <tr>\n",
       "      <th>0</th>\n",
       "      <td>Background</td>\n",
       "      <td>#000000</td>\n",
       "      <td>1</td>\n",
       "      <td>0</td>\n",
       "    </tr>\n",
       "    <tr>\n",
       "      <th>2</th>\n",
       "      <td>Glomerulus</td>\n",
       "      <td>#ff0000</td>\n",
       "      <td>1</td>\n",
       "      <td>2</td>\n",
       "    </tr>\n",
       "    <tr>\n",
       "      <th>3</th>\n",
       "      <td>Glomerulus_GS</td>\n",
       "      <td>#0000ff</td>\n",
       "      <td>1</td>\n",
       "      <td>3</td>\n",
       "    </tr>\n",
       "    <tr>\n",
       "      <th>4</th>\n",
       "      <td>Artery</td>\n",
       "      <td>#28614f</td>\n",
       "      <td>1</td>\n",
       "      <td>4</td>\n",
       "    </tr>\n",
       "    <tr>\n",
       "      <th>5</th>\n",
       "      <td>Arteriole</td>\n",
       "      <td>#59bb9b</td>\n",
       "      <td>1</td>\n",
       "      <td>5</td>\n",
       "    </tr>\n",
       "  </tbody>\n",
       "</table>\n",
       "</div>"
      ],
      "text/plain": [
       "      label_name    color  z-axis  label\n",
       "1    Biopsy_core  #00ffff       0      1\n",
       "0     Background  #000000       1      0\n",
       "2     Glomerulus  #ff0000       1      2\n",
       "3  Glomerulus_GS  #0000ff       1      3\n",
       "4         Artery  #28614f       1      4\n",
       "5      Arteriole  #59bb9b       1      5"
      ]
     },
     "execution_count": 12,
     "metadata": {},
     "output_type": "execute_result"
    }
   ],
   "source": [
    "# the following dataframe is useful for rendering \n",
    "# different groups of annotations on ASAP and mask;\n",
    "# can be modified according to the true annotation;\n",
    "# must contain four columns: label, label_name, color and z-axis\n",
    "# here it's directly decoded from HALO annotations.\n",
    "\n",
    "label_info = pd.DataFrame({\n",
    "    \"label_name\": [\"Background\"] + [a.group_name for a in annotations],\n",
    "    \"color\": [\"#000000\"] + [a.render_color for a in annotations],\n",
    "    \"z-axis\": 1\n",
    "})\n",
    "label_info = label_info.drop_duplicates().reset_index(drop=True)\n",
    "label_info[\"label\"] = label_info.index\n",
    "label_info.loc[label_info[\"label_name\"] == \"Biopsy_core\", \"z-axis\"] = 0\n",
    "label_info = label_info.sort_values(\"z-axis\")\n",
    "label_info"
   ]
  },
  {
   "cell_type": "markdown",
   "metadata": {},
   "source": [
    "## 4. Transformation between mask and annotation"
   ]
  },
  {
   "cell_type": "code",
   "execution_count": 13,
   "metadata": {},
   "outputs": [],
   "source": [
    "from annotations import annotation_to_mask, mask_to_annotation, generate_colorful_mask"
   ]
  },
  {
   "cell_type": "code",
   "execution_count": 14,
   "metadata": {},
   "outputs": [
    {
     "name": "stdout",
     "output_type": "stream",
     "text": [
      "1562 1562\n"
     ]
    }
   ],
   "source": [
    "upper_left = (5000, 43000) # in level-0 coordinate system\n",
    "level = 2\n",
    "width, height = (30000 - upper_left[0]) // 4**level, (68000 - upper_left[1]) // 4**level\n",
    "print(width, height)"
   ]
  },
  {
   "cell_type": "markdown",
   "metadata": {},
   "source": [
    "The annotation to mask transformation is useful for training segmentation models."
   ]
  },
  {
   "cell_type": "code",
   "execution_count": 15,
   "metadata": {},
   "outputs": [],
   "source": [
    "mask = annotation_to_mask(annotations, label_info, upper_left, (width, height), level=level)"
   ]
  },
  {
   "cell_type": "code",
   "execution_count": 16,
   "metadata": {},
   "outputs": [
    {
     "data": {
      "text/plain": [
       "((1562, 1562, 3), array([0, 1, 2, 3, 4, 5], dtype=uint8))"
      ]
     },
     "execution_count": 16,
     "metadata": {},
     "output_type": "execute_result"
    }
   ],
   "source": [
    "mask.shape, np.unique(mask)"
   ]
  },
  {
   "cell_type": "code",
   "execution_count": 17,
   "metadata": {},
   "outputs": [
    {
     "data": {
      "text/plain": [
       "<matplotlib.image.AxesImage at 0x7f4c7632da90>"
      ]
     },
     "execution_count": 17,
     "metadata": {},
     "output_type": "execute_result"
    },
    {
     "data": {
      "image/png": "[encoded data removed]",
      "text/plain": [
       "<Figure size 432x288 with 1 Axes>"
      ]
     },
     "metadata": {
      "needs_background": "light"
     },
     "output_type": "display_data"
    }
   ],
   "source": [
    "colorful_mask = generate_colorful_mask(mask, label_info)\n",
    "plt.imshow(colorful_mask)"
   ]
  },
  {
   "cell_type": "markdown",
   "metadata": {},
   "source": [
    "The inverse transformation is useful in rendering model inference results using polygons on ASAP."
   ]
  },
  {
   "cell_type": "code",
   "execution_count": 18,
   "metadata": {},
   "outputs": [],
   "source": [
    "regen_annotations = mask_to_annotation(mask, label_info, upper_left, level)"
   ]
  },
  {
   "cell_type": "code",
   "execution_count": 19,
   "metadata": {},
   "outputs": [],
   "source": [
    "create_asap_annotation_file(regen_annotations, working_dir / \"slide_001.asap.regen.xml\")"
   ]
  }
 ],
 "metadata": {
  "kernelspec": {
   "display_name": "pytorch",
   "language": "python",
   "name": "pytorch"
  },
  "language_info": {
   "codemirror_mode": {
    "name": "ipython",
    "version": 3
   },
   "file_extension": ".py",
   "mimetype": "text/x-python",
   "name": "python",
   "nbconvert_exporter": "python",
   "pygments_lexer": "ipython3",
   "version": "3.7.7"
  }
 },
 "nbformat": 4,
 "nbformat_minor": 4
}
